{
 "cells": [
  {
   "cell_type": "code",
   "execution_count": 62,
   "metadata": {},
   "outputs": [],
   "source": [
    "import numpy as np\n",
    "from numpy import linalg as LA"
   ]
  },
  {
   "cell_type": "markdown",
   "metadata": {},
   "source": [
    "Initialize a recurrence matrix, input matrix and a \"sentence\" representation."
   ]
  },
  {
   "cell_type": "code",
   "execution_count": 63,
   "metadata": {},
   "outputs": [],
   "source": [
    "dim = 3\n",
    "U = np.random.rand(3,3) - 0.5 \n",
    "U_symetric = U.dot(U.T) # this is the symetric recurrence matrix\n",
    "W = np.random.rand(3,3) - 0.5 # input matrix\n",
    "seq = [np.random.rand(3) for i in range(20)] # represents an input sequence"
   ]
  },
  {
   "cell_type": "markdown",
   "metadata": {},
   "source": [
    "Calculate the eigenvectors matrix, which is the change-of-basis matrix."
   ]
  },
  {
   "cell_type": "code",
   "execution_count": 64,
   "metadata": {},
   "outputs": [],
   "source": [
    "_, EIGENVECTORS = LA.eig(U_symetric) \n"
   ]
  },
  {
   "cell_type": "markdown",
   "metadata": {},
   "source": [
    "Next, we define the rnn state transition fucntions, and the transformation from and to the diagonal basis."
   ]
  },
  {
   "cell_type": "code",
   "execution_count": 69,
   "metadata": {},
   "outputs": [],
   "source": [
    "\n",
    "def one_step(h_prev, x, W, U_symetric, diagonal_basis = False): # represents elman rnn state update\n",
    "    \n",
    "    \"\"\"if working in diagonal coordinates:\n",
    "     move h_prev to the diagonal basis before multiplication in the diagonal matrix\"\"\"\n",
    "        \n",
    "    if diagonal_basis:\n",
    "        \n",
    "        h_prev = change_vector_to_diagonal_basis(h_prev) #THIS IS THE REPRESENTAION OF THE RNN ACTIVATION IN THE DIAGONAL BASIS\n",
    "    \n",
    "    \"\"\"peform state update (no activation yet)\"\"\"\n",
    "    \n",
    "    h =  U_symetric.dot(h_prev) + W.dot(x) \n",
    "    \n",
    "    \"\"\"if working in diagonal coordinates:\n",
    "    move h back to the original coordinates \"\"\"\n",
    "    \n",
    "    if diagonal_basis:\n",
    "        h = change_vector_from_diagonal_basis(h) \n",
    "    \n",
    "    \"\"\"apply activation function\"\"\"\n",
    "    \n",
    "    h = np.tanh(h)\n",
    "    \n",
    "    return h\n",
    "\n",
    "def run_symetric_elman_rnn(seq, W, U_symetric, diagonal_basis = False):\n",
    "    \n",
    "    h = np.ones(3)\n",
    "    states = [h]\n",
    "    \n",
    "    for x in seq:\n",
    "        \n",
    "        h = one_step(h, x, W, U_symetric, diagonal_basis = diagonal_basis)\n",
    "        states.append(h)\n",
    "    \n",
    "    return states\n",
    "\n",
    "def change_matrix_to_diagonal_basis(matrix):\n",
    "    \n",
    "    return EIGENVECTORS.T.dot(matrix).dot(EIGENVECTORS)\n",
    "\n",
    "def change_vector_to_diagonal_basis(vector):\n",
    "    \n",
    "    return EIGENVECTORS.T.dot(vector)\n",
    "\n",
    "def change_vector_from_diagonal_basis(vector):\n",
    "    \n",
    "    return EIGENVECTORS.dot(vector)\n",
    "\n",
    "def is_diagonal(matrix):\n",
    "\n",
    "    return np.allclose(matrix, np.diag(np.diagonal(matrix)))"
   ]
  },
  {
   "cell_type": "code",
   "execution_count": 70,
   "metadata": {},
   "outputs": [],
   "source": [
    "diagonal_recurrence_matrix = change_matrix_to_diagonal_basis(U_symetric)\n",
    "W_in_diagonal_basis = change_matrix_to_diagonal_basis(W)\n",
    "seq_in_diagonal_basis = [change_vector_to_diagonal_basis(w) for w in seq]"
   ]
  },
  {
   "cell_type": "markdown",
   "metadata": {},
   "source": [
    "Validate that the recurrence matrix is indeed diagonal in the new axes system"
   ]
  },
  {
   "cell_type": "code",
   "execution_count": 71,
   "metadata": {},
   "outputs": [
    {
     "name": "stdout",
     "output_type": "stream",
     "text": [
      "True\n"
     ]
    }
   ],
   "source": [
    "print(is_diagonal(diagonal_recurrence_matrix))"
   ]
  },
  {
   "cell_type": "markdown",
   "metadata": {},
   "source": [
    "We will show we can get the same state sequence by working on the diagonal basis from the first place."
   ]
  },
  {
   "cell_type": "code",
   "execution_count": 72,
   "metadata": {},
   "outputs": [
    {
     "name": "stdout",
     "output_type": "stream",
     "text": [
      "True\n",
      "True\n",
      "True\n",
      "True\n",
      "True\n",
      "True\n",
      "True\n",
      "True\n",
      "True\n",
      "True\n",
      "True\n",
      "True\n",
      "True\n",
      "True\n",
      "True\n",
      "True\n",
      "True\n",
      "True\n",
      "True\n",
      "True\n",
      "True\n"
     ]
    }
   ],
   "source": [
    "# run the model on the original coordinate system\n",
    "\n",
    "states_from_original_basis = run_symetric_elman_rnn(seq, W, U_symetric, diagonal_basis = False)\n",
    "\n",
    "# run the model on the diagonal coordinate system\n",
    "\n",
    "states_from_diagonal_basis = run_symetric_elman_rnn(seq_in_diagonal_basis, W_in_diagonal_basis, diagonal_recurrence_matrix, diagonal_basis = True)\n",
    "\n",
    "# Validate that we get the same state vectors in both methods\n",
    "\n",
    "for (s, s2) in zip(states_from_original_basis, states_from_diagonal_basis):\n",
    "    print(np.allclose(s,s2))"
   ]
  }
 ],
 "metadata": {
  "kernelspec": {
   "display_name": "Python 3",
   "language": "python",
   "name": "python3"
  },
  "language_info": {
   "codemirror_mode": {
    "name": "ipython",
    "version": 3
   },
   "file_extension": ".py",
   "mimetype": "text/x-python",
   "name": "python",
   "nbconvert_exporter": "python",
   "pygments_lexer": "ipython3",
   "version": "3.6.3"
  }
 },
 "nbformat": 4,
 "nbformat_minor": 2
}
